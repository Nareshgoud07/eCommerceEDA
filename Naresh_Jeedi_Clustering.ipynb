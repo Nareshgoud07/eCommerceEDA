{
 "cells": [
  {
   "cell_type": "code",
   "execution_count": 1,
   "id": "ca2dd8d4",
   "metadata": {},
   "outputs": [],
   "source": [
    "import pandas as pd\n",
    "import matplotlib.pyplot as plt\n",
    "import seaborn as sns\n",
    "from sklearn.preprocessing import StandardScaler\n",
    "from sklearn.metrics.pairwise import cosine_similarity\n",
    "from sklearn.cluster import KMeans\n",
    "from sklearn.metrics import davies_bouldin_score\n",
    "import numpy as np"
   ]
  },
  {
   "cell_type": "code",
   "execution_count": 2,
   "id": "5fd60593",
   "metadata": {},
   "outputs": [],
   "source": [
    "customers = pd.read_csv(r\"C:\\Users\\nanin\\OneDrive\\Desktop\\Customers (1).csv\")\n",
    "products = pd.read_csv(r\"C:\\Users\\nanin\\OneDrive\\Desktop\\Products.csv\")\n",
    "transactions = pd.read_csv(r\"C:\\Users\\nanin\\OneDrive\\Desktop\\Transactions.csv\")"
   ]
  },
  {
   "cell_type": "code",
   "execution_count": 3,
   "id": "78abc0cf",
   "metadata": {},
   "outputs": [
    {
     "name": "stdout",
     "output_type": "stream",
     "text": [
      "Customers Dataset:\n",
      "   CustomerID        CustomerName         Region  SignupDate\n",
      "0      C0001    Lawrence Carroll  South America  2022-07-10\n",
      "1      C0002      Elizabeth Lutz           Asia  2022-02-13\n",
      "2      C0003      Michael Rivera  South America  2024-03-07\n",
      "3      C0004  Kathleen Rodriguez  South America  2022-10-09\n",
      "4      C0005         Laura Weber           Asia  2022-08-15\n",
      "\n",
      "Products Dataset:\n",
      "   ProductID              ProductName     Category   Price\n",
      "0      P001     ActiveWear Biography        Books  169.30\n",
      "1      P002    ActiveWear Smartwatch  Electronics  346.30\n",
      "2      P003  ComfortLiving Biography        Books   44.12\n",
      "3      P004            BookWorld Rug   Home Decor   95.69\n",
      "4      P005          TechPro T-Shirt     Clothing  429.31\n",
      "\n",
      "Transactions Dataset:\n",
      "   TransactionID CustomerID ProductID      TransactionDate  Quantity  \\\n",
      "0        T00001      C0199      P067  2024-08-25 12:38:23         1   \n",
      "1        T00112      C0146      P067  2024-05-27 22:23:54         1   \n",
      "2        T00166      C0127      P067  2024-04-25 07:38:55         1   \n",
      "3        T00272      C0087      P067  2024-03-26 22:55:37         2   \n",
      "4        T00363      C0070      P067  2024-03-21 15:10:10         3   \n",
      "\n",
      "   TotalValue   Price  \n",
      "0      300.68  300.68  \n",
      "1      300.68  300.68  \n",
      "2      300.68  300.68  \n",
      "3      601.36  300.68  \n",
      "4      902.04  300.68  \n"
     ]
    }
   ],
   "source": [
    "print(\"Customers Dataset:\\n\", customers.head())\n",
    "print(\"\\nProducts Dataset:\\n\", products.head())\n",
    "print(\"\\nTransactions Dataset:\\n\", transactions.head())\n"
   ]
  },
  {
   "cell_type": "code",
   "execution_count": 4,
   "id": "f7f7b18a",
   "metadata": {},
   "outputs": [
    {
     "name": "stdout",
     "output_type": "stream",
     "text": [
      "\n",
      "Missing values in Customers:\n",
      " CustomerID      0\n",
      "CustomerName    0\n",
      "Region          0\n",
      "SignupDate      0\n",
      "dtype: int64\n",
      "\n",
      "Missing values in Products:\n",
      " ProductID      0\n",
      "ProductName    0\n",
      "Category       0\n",
      "Price          0\n",
      "dtype: int64\n",
      "\n",
      "Missing values in Transactions:\n",
      " TransactionID      0\n",
      "CustomerID         0\n",
      "ProductID          0\n",
      "TransactionDate    0\n",
      "Quantity           0\n",
      "TotalValue         0\n",
      "Price              0\n",
      "dtype: int64\n"
     ]
    }
   ],
   "source": [
    "print(\"\\nMissing values in Customers:\\n\", customers.isnull().sum())\n",
    "print(\"\\nMissing values in Products:\\n\", products.isnull().sum())\n",
    "print(\"\\nMissing values in Transactions:\\n\", transactions.isnull().sum())"
   ]
  },
  {
   "cell_type": "code",
   "execution_count": 5,
   "id": "bc393698",
   "metadata": {},
   "outputs": [
    {
     "name": "stdout",
     "output_type": "stream",
     "text": [
      "\n",
      "Customers Dataset Statistics:\n",
      "        CustomerID      CustomerName         Region  SignupDate\n",
      "count         200               200            200         200\n",
      "unique        200               200              4         179\n",
      "top         C0001  Lawrence Carroll  South America  2024-11-11\n",
      "freq            1                 1             59           3\n",
      "\n",
      "Products Dataset Statistics:\n",
      "        ProductID            ProductName Category       Price\n",
      "count        100                    100      100  100.000000\n",
      "unique       100                     66        4         NaN\n",
      "top         P001  ActiveWear Smartwatch    Books         NaN\n",
      "freq           1                      4       26         NaN\n",
      "mean         NaN                    NaN      NaN  267.551700\n",
      "std          NaN                    NaN      NaN  143.219383\n",
      "min          NaN                    NaN      NaN   16.080000\n",
      "25%          NaN                    NaN      NaN  147.767500\n",
      "50%          NaN                    NaN      NaN  292.875000\n",
      "75%          NaN                    NaN      NaN  397.090000\n",
      "max          NaN                    NaN      NaN  497.760000\n",
      "\n",
      "Transactions Dataset Statistics:\n",
      "           Quantity   TotalValue       Price\n",
      "count  1000.000000  1000.000000  1000.00000\n",
      "mean      2.537000   689.995560   272.55407\n",
      "std       1.117981   493.144478   140.73639\n",
      "min       1.000000    16.080000    16.08000\n",
      "25%       2.000000   295.295000   147.95000\n",
      "50%       3.000000   588.880000   299.93000\n",
      "75%       4.000000  1011.660000   404.40000\n",
      "max       4.000000  1991.040000   497.76000\n"
     ]
    }
   ],
   "source": [
    "print(\"\\nCustomers Dataset Statistics:\\n\", customers.describe(include='all'))\n",
    "print(\"\\nProducts Dataset Statistics:\\n\", products.describe(include='all'))\n",
    "print(\"\\nTransactions Dataset Statistics:\\n\", transactions.describe())"
   ]
  },
  {
   "cell_type": "code",
   "execution_count": 6,
   "id": "4849b0ee",
   "metadata": {},
   "outputs": [],
   "source": [
    "merged_data = pd.merge(transactions, customers, on='CustomerID', how='left')\n",
    "merged_data = pd.merge(merged_data, products, on='ProductID', how='left')"
   ]
  },
  {
   "cell_type": "code",
   "execution_count": 7,
   "id": "09af5005",
   "metadata": {},
   "outputs": [
    {
     "name": "stdout",
     "output_type": "stream",
     "text": [
      "\n",
      "Merged Dataset:\n",
      "   TransactionID CustomerID ProductID      TransactionDate  Quantity  \\\n",
      "0        T00001      C0199      P067  2024-08-25 12:38:23         1   \n",
      "1        T00112      C0146      P067  2024-05-27 22:23:54         1   \n",
      "2        T00166      C0127      P067  2024-04-25 07:38:55         1   \n",
      "3        T00272      C0087      P067  2024-03-26 22:55:37         2   \n",
      "4        T00363      C0070      P067  2024-03-21 15:10:10         3   \n",
      "\n",
      "   TotalValue  Price_x     CustomerName         Region  SignupDate  \\\n",
      "0      300.68   300.68   Andrea Jenkins         Europe  2022-12-03   \n",
      "1      300.68   300.68  Brittany Harvey           Asia  2024-09-04   \n",
      "2      300.68   300.68  Kathryn Stevens         Europe  2024-04-04   \n",
      "3      601.36   300.68  Travis Campbell  South America  2024-04-11   \n",
      "4      902.04   300.68    Timothy Perez         Europe  2022-03-15   \n",
      "\n",
      "                       ProductName     Category  Price_y  \n",
      "0  ComfortLiving Bluetooth Speaker  Electronics   300.68  \n",
      "1  ComfortLiving Bluetooth Speaker  Electronics   300.68  \n",
      "2  ComfortLiving Bluetooth Speaker  Electronics   300.68  \n",
      "3  ComfortLiving Bluetooth Speaker  Electronics   300.68  \n",
      "4  ComfortLiving Bluetooth Speaker  Electronics   300.68  \n"
     ]
    }
   ],
   "source": [
    "print(\"\\nMerged Dataset:\\n\", merged_data.head())"
   ]
  },
  {
   "cell_type": "code",
   "execution_count": 8,
   "id": "865071b6",
   "metadata": {},
   "outputs": [],
   "source": [
    "customer_summary = merged_data.groupby('CustomerID').agg({\n",
    "    'TotalValue': 'sum',\n",
    "    'Quantity': 'sum'\n",
    "}).reset_index()"
   ]
  },
  {
   "cell_type": "code",
   "execution_count": 9,
   "id": "047afe56",
   "metadata": {},
   "outputs": [],
   "source": [
    "customer_data = pd.merge(customer_summary, customers, on='CustomerID', how='left')"
   ]
  },
  {
   "cell_type": "code",
   "execution_count": 10,
   "id": "9a0efcae",
   "metadata": {},
   "outputs": [],
   "source": [
    "customer_data_encoded = pd.get_dummies(customer_data, columns=['Region'], drop_first=True)\n",
    "scaler = StandardScaler()\n",
    "numerical_features = ['TotalValue', 'Quantity']\n",
    "customer_data_encoded[numerical_features] = scaler.fit_transform(customer_data_encoded[numerical_features])"
   ]
  },
  {
   "cell_type": "code",
   "execution_count": 11,
   "id": "eca53994",
   "metadata": {},
   "outputs": [],
   "source": [
    "similarity_matrix = cosine_similarity(customer_data_encoded.drop(columns=['CustomerID', 'CustomerName', 'SignupDate']))\n",
    "similarity_df = pd.DataFrame(similarity_matrix, index=customer_data['CustomerID'], columns=customer_data['CustomerID'])"
   ]
  },
  {
   "cell_type": "code",
   "execution_count": 12,
   "id": "40f8d972",
   "metadata": {},
   "outputs": [],
   "source": [
    "lookalike_results = {}\n",
    "for customer_id in similarity_df.index:\n",
    "    similar_customers = similarity_df[customer_id].sort_values(ascending=False).iloc[1:4]\n",
    "    lookalike_results[customer_id] = list(zip(similar_customers.index, similar_customers.values))"
   ]
  },
  {
   "cell_type": "code",
   "execution_count": 13,
   "id": "5f30ad31",
   "metadata": {},
   "outputs": [],
   "source": [
    "lookalike_data = []\n",
    "for customer_id, lookalikes in lookalike_results.items():\n",
    "    for similar_id, score in lookalikes:\n",
    "        lookalike_data.append([customer_id, similar_id, score])"
   ]
  },
  {
   "cell_type": "code",
   "execution_count": 14,
   "id": "6ef573df",
   "metadata": {},
   "outputs": [
    {
     "name": "stdout",
     "output_type": "stream",
     "text": [
      "\n",
      "Lookalike recommendations saved to Lookalike.csv\n"
     ]
    }
   ],
   "source": [
    "lookalike_df = pd.DataFrame(lookalike_data, columns=['CustomerID', 'SimilarCustomerID', 'SimilarityScore'])\n",
    "lookalike_df.to_csv(\"/mnt/data/Lookalike.csv\", index=False)\n",
    "print(\"\\nLookalike recommendations saved to Lookalike.csv\")"
   ]
  },
  {
   "cell_type": "code",
   "execution_count": 15,
   "id": "3b3ef1b3",
   "metadata": {},
   "outputs": [],
   "source": [
    "clustering_features = customer_data_encoded.drop(columns=['CustomerID', 'CustomerName', 'SignupDate'])"
   ]
  },
  {
   "cell_type": "code",
   "execution_count": 16,
   "id": "92ac02cf",
   "metadata": {},
   "outputs": [],
   "source": [
    "kmeans = KMeans(n_clusters=5, random_state=42)\n",
    "customer_data_encoded['Cluster'] = kmeans.fit_predict(clustering_features)"
   ]
  },
  {
   "cell_type": "code",
   "execution_count": 17,
   "id": "904cd7a3",
   "metadata": {},
   "outputs": [
    {
     "name": "stdout",
     "output_type": "stream",
     "text": [
      "\n",
      "Davies-Bouldin Index for Clustering: 1.21\n"
     ]
    }
   ],
   "source": [
    "db_index = davies_bouldin_score(clustering_features, customer_data_encoded['Cluster'])\n",
    "print(\"\\nDavies-Bouldin Index for Clustering: {:.2f}\".format(db_index))"
   ]
  },
  {
   "cell_type": "code",
   "execution_count": 18,
   "id": "1dc6c777",
   "metadata": {},
   "outputs": [
    {
     "data": {
      "image/png": "[encoded data removed]",
      "text/plain": [
       "<Figure size 1000x600 with 1 Axes>"
      ]
     },
     "metadata": {},
     "output_type": "display_data"
    }
   ],
   "source": [
    "plt.figure(figsize=(10, 6))\n",
    "sns.scatterplot(x=clustering_features.iloc[:, 0], y=clustering_features.iloc[:, 1], \n",
    "                hue=customer_data_encoded['Cluster'], palette='viridis')\n",
    "plt.title('Customer Segmentation (K-Means Clusters)')\n",
    "plt.xlabel('Feature 1')\n",
    "plt.ylabel('Feature 2')\n",
    "plt.legend(title='Cluster')\n",
    "plt.show()"
   ]
  },
  {
   "cell_type": "code",
   "execution_count": 19,
   "id": "f4781424",
   "metadata": {},
   "outputs": [
    {
     "name": "stdout",
     "output_type": "stream",
     "text": [
      "\n",
      "Customer cluster assignments saved to CustomerClusters.csv\n"
     ]
    }
   ],
   "source": [
    "customer_data_encoded[['CustomerID', 'Cluster']].to_csv(\"/mnt/data/CustomerClusters.csv\", index=False)\n",
    "print(\"\\nCustomer cluster assignments saved to CustomerClusters.csv\")"
   ]
  },
  {
   "cell_type": "code",
   "execution_count": 20,
   "id": "35742aad",
   "metadata": {},
   "outputs": [],
   "source": [
    "merged_data.to_csv(\"/mnt/data/MergedDataset.csv\", index=False)"
   ]
  },
  {
   "cell_type": "code",
   "execution_count": null,
   "id": "fdc176dc",
   "metadata": {},
   "outputs": [],
   "source": []
  }
 ],
 "metadata": {
  "kernelspec": {
   "display_name": "Python 3 (ipykernel)",
   "language": "python",
   "name": "python3"
  },
  "language_info": {
   "codemirror_mode": {
    "name": "ipython",
    "version": 3
   },
   "file_extension": ".py",
   "mimetype": "text/x-python",
   "name": "python",
   "nbconvert_exporter": "python",
   "pygments_lexer": "ipython3",
   "version": "3.9.13"
  }
 },
 "nbformat": 4,
 "nbformat_minor": 5
}
